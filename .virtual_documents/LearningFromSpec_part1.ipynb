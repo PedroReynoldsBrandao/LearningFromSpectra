


#  Opening the datasets

import pandas as pd

# Specify the folder name
folder = 'C:/Users/pedro.brandao/OneDrive - iBET/Desktop/Datasets and scripts updated/NO Dataset'

# Import monitor data (measurements using standard analytical methods)
monitordata = pd.read_excel(folder + '/monitordata.xlsx')

# Lets get the info about a sample (e.g. 25th row)
sample_number = 25
monitordata.iloc[sample_number]


# Let's take a look at the spectroscopy data

# Import absdata and fluorodata (measurements using spectroscopy methods)


fluorodata, absdata = (
    pd.read_excel(folder + '/fluorodata.xlsx'),
    pd.read_excel(folder + '/absdata.xlsx')
)

# Note: This may take some time, as the files are large!

fluorodata





# Convert data to pickle

monitordata.to_pickle('monitordata.pkl')
absdata.to_pickle('absdata.pkl')
fluorodata.to_pickle('fluorodata.pkl')



# Let's delete the data (variables) from our python environment
%reset





# Load data from pickle files

import pandas as pd
monitordata, fluorodata, absdata = (
    pd.read_pickle('monitordata.pkl'),
    pd.read_pickle('fluorodata.pkl'),
    pd.read_pickle('absdata.pkl')
)






# Identifying indexes within the data

IDcolumns_number = 14

# Collect the first 14 column names as index identifiers
sampleinfo = list(monitordata.columns[:IDcolumns_number])

print('\nThe index information includes:\n')
for item in sampleinfo:
    print(item)





# Identifying the variables: monitor parameters and spectroscopy wavelengths

# Collect column names for monitoring variables and spectral data
monitor_params = list(monitordata.columns[IDcolumns_number:])
abswaves = list(absdata.columns[IDcolumns_number:])
fluorowaves = list(fluorodata.columns[IDcolumns_number:])

print('\nThe monitoring parameters are:\n')
for item in monitor_params:
    print(item)
   
print('\nThe absorbance wavelengths range from: {} to {}'.format(abswaves[0], abswaves[-1]))

print('\nThe fluorescence excitation-emission pairs (EEP) of wavelengths range from: {} to {}'.format(
    fluorowaves[0], fluorowaves[-1]))





# Set index permanently and select assays of interest

monitordata = monitordata.set_index(sampleinfo)
absdata = absdata.set_index(sampleinfo)
fluorodata = fluorodata.set_index(sampleinfo)





# Plot monitor parameters (outputs)

# Import the plotting function
from output_plotter import plot_output_timewise

# Define outputs and spectral inputs to plot
outputs2plot = [
    'CC (million cells/mL)',
    #'CytoRed (a.u.)',
    #'CytoFSC (a.u.)',
    'Vx (ppm)',
]

inputs2plot_abs = ['Abs at 450 nm', 'Abs at 750 nm']
inputs2plot_fluoro = ['EEP 425 / 690 nm']

parameters2plot = outputs2plot + inputs2plot_abs + inputs2plot_fluoro

time = 'Day'
discrimination = 'Assay'

# Combine monitor data with selected spectral inputs for plotting
monitordata2plot = monitordata[outputs2plot].join(absdata[inputs2plot_abs])
monitordata2plot = monitordata2plot.join(fluorodata[inputs2plot_fluoro])

# Plot each parameter
for output in parameters2plot:
    plot_output_timewise(
        monitordata2plot, 
        time, 
        output, 
        discrimination,
        figsize=(12, 4),
        legend=True,
    )





# Show pictures of the actual cultures

# Show some pictures from the actual cultures
import matplotlib.pyplot as plt
import matplotlib.image as mpimg
import os

folder = 'C:/Users/pedro.brandao/OneDrive - iBET/Desktop/Datasets and scripts updated/NO Dataset'

images = os.listdir(folder+'/Images')

for image in images:
    img = mpimg.imread(folder+'/Images/'+image)
    plt.imshow(img)
    plt.axis('off')
    plt.title(image[:-5])
    plt.show()





#%% Plot monitor parameters with custom colors for assay discrimination

# Define custom colors (in RGB, 0–255 scale)
colors = [
    (255, 179, 71),   # Yellowish Orange
    (255, 204, 0),    # Yellow-Orange
    (85, 107, 47),    # Dark Olive Green (Brownish Green)
    (128, 128, 0),    # Olive Green
    (0, 100, 0),      # Dark Green
    (0, 120, 0),      # Forest Green
]

# Plot each output with the custom colors
for output in parameters2plot:
    plot_output_timewise(
        monitordata2plot, 
        time, 
        output, 
        discrimination,
        colors=colors,
        figsize=(6, 4),
        legend=True,
        justpoint = True,
    )





# Plot spectroscopy data

from spectrum_plotter import plotmeanAbsSpecs, plotmeanEEMs

# Define days to plot and list of assays
days = [1, 3, 5, 7, 9, 12, 14, 16, 18, 20]
assays = monitordata.index.get_level_values('Assay').unique()

# Plot mean absorbance spectra for each assay
plotmeanAbsSpecs(
    assays,
    discriminator='Assay',
    days2use=days,
    varxID=abswaves,
    df=absdata,
    ymax=4,
    dataindex=True,
    legend=False,             # Use boolean for clarity
    color_palette='Greens'
)

# Plot mean 2D fluorescence spectra (EEMs) for each assay
plotmeanEEMs(
    factors=assays,
    discriminator='Assay',
    plotdiffs=False,
    logtransf=False,
    days2use=days,
    varxID=fluorowaves,
    df=fluorodata,
    colorbar=False,
    dataindex=True,
    contours = False,
)





# Unsupervised machine learning: Are there spectral patterns?

# Define custom colors (as RGB tuples)
colors = [
    (255, 179, 71),   # Yellowish Orange
    (255, 204, 0),    # Yellow-Orange
    (85, 107, 47),    # Dark Olive Green (Brownish Green)
    (128, 128, 0),    # Olive Green
    (0, 100, 0),      # Dark Green
    (0, 160, 0),      # Forest Green
]

from PCA_function import process_pca

# PCA on 2D fluorescence spectra
pca_2df = process_pca(
    data='2DF',
    data2use_group='Assay',
    data2use=[
        'F2 (F2-inoc)', 'F2+N (F2-inoc)', 'F2+N+P (F2-inoc)',
        'F2 (F2+N-inoc)', 'F2+N (F2+N-inoc)', 'F2+N+P (F2+N-inoc)'
    ],
    days2include=[1, 3, 5, 7, 9, 12, 14, 16, 18, 20],
    discrimination='Assay',
    fluorodata=fluorodata,
    colors=colors,
    rgb_colors=True,
    legend=True,
    show_spectral_heatmaps=True,
    cmap4spectra='YlGn',
    negatePC2=True
)

# PCA on absorbance spectra
pca_abs = process_pca(
    data='Abs',
    data2use_group='Assay',
    data2use=[
        'F2 (F2-inoc)', 'F2+N (F2-inoc)', 'F2+N+P (F2-inoc)',
        'F2 (F2+N-inoc)', 'F2+N (F2+N-inoc)', 'F2+N+P (F2+N-inoc)'
    ],
    days2include=[1, 3, 5, 7, 9, 12, 14, 16, 18, 20],
    discrimination='Assay',
    absdata=absdata,
    colors=colors,
    rgb_colors=True,
    legend=True,
    show_spectral_heatmaps=True,
    cmap4spectra='YlGn',
    negatePC2=True
)





# Color PCA scores according to parameter of monitor interest or time


data = '2DF'

output_of_interest = 'Vx (ppm)'

pca= process_pca(
    data=data,
    data2use_group = 'Assay',
    data2use= ['F2 (F2-inoc)','F2+N (F2-inoc)','F2+N+P (F2-inoc)',
              'F2 (F2+N-inoc)','F2+N (F2+N-inoc)','F2+N+P (F2+N-inoc)',
              ],
    days2include=[3,5,7,9,12,14,16,18,20],
    discrimination = output_of_interest,
    fluorodata=fluorodata,
    monitordata = monitordata,
    personalized_discrimination= True,
    colors = 'hot', #colors,

    legend = 0,
    negatePC2 = True
    )

data = 'Abs'

output_of_interest = 'CytoNR (a.u.)'

pca= process_pca(
    data=data,
    data2use_group = 'Assay',
    data2use= ['F2 (F2-inoc)','F2+N (F2-inoc)','F2+N+P (F2-inoc)',
              'F2 (F2+N-inoc)','F2+N (F2+N-inoc)','F2+N+P (F2+N-inoc)',
              ],
    days2include=[3,5,7,9,12,14,16,18,20],
    discrimination = output_of_interest,
    absdata = absdata,
    monitordata = monitordata,
    personalized_discrimination= True,
    colors = 'hot', #colors,

    legend = 0,
    negatePC2 = True
    )



